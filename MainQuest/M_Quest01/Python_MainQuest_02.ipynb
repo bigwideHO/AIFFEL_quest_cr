{
 "cells": [
  {
   "cell_type": "code",
   "execution_count": 10,
   "metadata": {},
   "outputs": [],
   "source": [
    "# Q1\n",
    "\n",
    "import random\n",
    "\n",
    "class Character:\n",
    "    def __init__(self, name, level, hp, atk, dfs):\n",
    "        self.name = name\n",
    "        self.level = level\n",
    "        self.hp = hp\n",
    "        self.atk = atk\n",
    "        self.dfs = dfs\n",
    "    \n",
    "    def is_alive(self):\n",
    "        return self.hp > 0\n",
    "    \n",
    "    def take_damage(self, damage):\n",
    "        if self.dfs > damage:\n",
    "            print(f\"{self.name}이(가) 피해를 입지 않았습니다.\")\n",
    "        else:\n",
    "            actual_damage = max(0, damage - self.dfs)\n",
    "            self.hp -= actual_damage\n",
    "    \n",
    "    def attack_target(self, target):\n",
    "        self.damage = random.randint(1, self.atk)\n",
    "        target.take_damage(self.damage)\n",
    "        return self.damage\n",
    "\n",
    "\n",
    "player_name = input(\"플레이어 이름을 입력하세요: \")\n",
    "player_name = Character(player_name, 1, 100, 20, 5)\n",
    "monster = Character(\"Monster\", 1, 50, 15, 3)\n",
    "\n",
    "player_name.is_alive()\n",
    "monster.is_alive()\n",
    "player_name.take_damage(20)\n",
    "player_name.attack_target(monster)\n",
    "\n",
    "damage = player_name.attack_target(monster)\n",
    "damage = monster.attack_target(player_name)"
   ]
  },
  {
   "cell_type": "code",
   "execution_count": 11,
   "metadata": {},
   "outputs": [
    {
     "ename": "IndentationError",
     "evalue": "expected an indented block after function definition on line 29 (212829126.py, line 32)",
     "output_type": "error",
     "traceback": [
      "\u001b[1;36m  Cell \u001b[1;32mIn[11], line 32\u001b[1;36m\u001b[0m\n\u001b[1;33m    class Monster(Character):\u001b[0m\n\u001b[1;37m                             ^\u001b[0m\n\u001b[1;31mIndentationError\u001b[0m\u001b[1;31m:\u001b[0m expected an indented block after function definition on line 29\n"
     ]
    }
   ],
   "source": [
    "# Q2\n",
    "\n",
    "import random\n",
    "\n",
    "class Character:\n",
    "    def __init__(self, name, level, hp, atk, dfs):\n",
    "        self.name = name\n",
    "        self.level = level\n",
    "        self.hp = hp\n",
    "        self.atk = atk\n",
    "        self.dfs = dfs\n",
    "    \n",
    "    def is_alive(self):\n",
    "        return self.hp > 0\n",
    "    \n",
    "    def take_damage(self, damage):\n",
    "        if self.dfs > damage:\n",
    "            print(f\"{self.name}이(가) 피해를 입지 않았습니다.\")\n",
    "        else:\n",
    "            actual_damage = max(0, damage - self.dfs)\n",
    "            self.hp -= actual_damage\n",
    "    \n",
    "    def attack_target(self, target):\n",
    "        self.damage = random.randint(1, self.atk)\n",
    "        target.take_damage(self.damage)\n",
    "        return self.damage\n",
    "\n",
    "class Player(Character):\n",
    "    def __init__(self):\n",
    "\n",
    "\n",
    "class Monster(Character):\n",
    "    health = random.randint(10, 30)"
   ]
  }
 ],
 "metadata": {
  "kernelspec": {
   "display_name": "Python 3",
   "language": "python",
   "name": "python3"
  },
  "language_info": {
   "codemirror_mode": {
    "name": "ipython",
    "version": 3
   },
   "file_extension": ".py",
   "mimetype": "text/x-python",
   "name": "python",
   "nbconvert_exporter": "python",
   "pygments_lexer": "ipython3",
   "version": "3.12.5"
  }
 },
 "nbformat": 4,
 "nbformat_minor": 2
}
