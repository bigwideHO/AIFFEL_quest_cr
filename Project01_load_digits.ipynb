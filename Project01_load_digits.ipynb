{
  "nbformat": 4,
  "nbformat_minor": 0,
  "metadata": {
    "colab": {
      "provenance": [],
      "authorship_tag": "ABX9TyNlXjagEiPbMmuIO2cMM6r6",
      "include_colab_link": true
    },
    "kernelspec": {
      "name": "python3",
      "display_name": "Python 3"
    },
    "language_info": {
      "name": "python"
    }
  },
  "cells": [
    {
      "cell_type": "markdown",
      "metadata": {
        "id": "view-in-github",
        "colab_type": "text"
      },
      "source": [
        "<a href=\"https://colab.research.google.com/github/bigwideHO/AIFFEL_quest_cr/blob/main/Project01_load_digits.ipynb\" target=\"_parent\"><img src=\"https://colab.research.google.com/assets/colab-badge.svg\" alt=\"Open In Colab\"/></a>"
      ]
    },
    {
      "cell_type": "code",
      "execution_count": null,
      "metadata": {
        "colab": {
          "base_uri": "https://localhost:8080/"
        },
        "id": "y38PTrr6UMrs",
        "outputId": "bb78afb0-52d5-43b8-b416-18dd673ddad2"
      },
      "outputs": [
        {
          "output_type": "stream",
          "name": "stdout",
          "text": [
            "1.3.2\n"
          ]
        }
      ],
      "source": [
        "import sklearn\n",
        "\n",
        "print(sklearn.__version__)"
      ]
    },
    {
      "cell_type": "code",
      "source": [
        "from sklearn.datasets import load_digits\n",
        "from sklearn.model_selection import train_test_split\n",
        "from sklearn.metrics import classification_report"
      ],
      "metadata": {
        "id": "g0a_H7NCXPSC"
      },
      "execution_count": null,
      "outputs": []
    },
    {
      "cell_type": "code",
      "source": [
        "digit = load_digits()\n",
        "digit_data = digit.data\n",
        "digit_label = digit.target"
      ],
      "metadata": {
        "id": "g2f0oMwNXcr2"
      },
      "execution_count": null,
      "outputs": []
    },
    {
      "cell_type": "code",
      "source": [
        "print(digit.target_names)"
      ],
      "metadata": {
        "colab": {
          "base_uri": "https://localhost:8080/"
        },
        "id": "glPNjqT5Yhq-",
        "outputId": "768649d8-20a1-4808-de10-135aa80cbff4"
      },
      "execution_count": null,
      "outputs": [
        {
          "output_type": "stream",
          "name": "stdout",
          "text": [
            "[0 1 2 3 4 5 6 7 8 9]\n"
          ]
        }
      ]
    },
    {
      "cell_type": "code",
      "source": [
        "print(digit.DESCR)"
      ],
      "metadata": {
        "colab": {
          "base_uri": "https://localhost:8080/"
        },
        "id": "UE3pd5khafeZ",
        "outputId": "1cd9b142-64f8-4de1-f66c-40d7bf9e11d1"
      },
      "execution_count": null,
      "outputs": [
        {
          "output_type": "stream",
          "name": "stdout",
          "text": [
            ".. _digits_dataset:\n",
            "\n",
            "Optical recognition of handwritten digits dataset\n",
            "--------------------------------------------------\n",
            "\n",
            "**Data Set Characteristics:**\n",
            "\n",
            "    :Number of Instances: 1797\n",
            "    :Number of Attributes: 64\n",
            "    :Attribute Information: 8x8 image of integer pixels in the range 0..16.\n",
            "    :Missing Attribute Values: None\n",
            "    :Creator: E. Alpaydin (alpaydin '@' boun.edu.tr)\n",
            "    :Date: July; 1998\n",
            "\n",
            "This is a copy of the test set of the UCI ML hand-written digits datasets\n",
            "https://archive.ics.uci.edu/ml/datasets/Optical+Recognition+of+Handwritten+Digits\n",
            "\n",
            "The data set contains images of hand-written digits: 10 classes where\n",
            "each class refers to a digit.\n",
            "\n",
            "Preprocessing programs made available by NIST were used to extract\n",
            "normalized bitmaps of handwritten digits from a preprinted form. From a\n",
            "total of 43 people, 30 contributed to the training set and different 13\n",
            "to the test set. 32x32 bitmaps are divided into nonoverlapping blocks of\n",
            "4x4 and the number of on pixels are counted in each block. This generates\n",
            "an input matrix of 8x8 where each element is an integer in the range\n",
            "0..16. This reduces dimensionality and gives invariance to small\n",
            "distortions.\n",
            "\n",
            "For info on NIST preprocessing routines, see M. D. Garris, J. L. Blue, G.\n",
            "T. Candela, D. L. Dimmick, J. Geist, P. J. Grother, S. A. Janet, and C.\n",
            "L. Wilson, NIST Form-Based Handprint Recognition System, NISTIR 5469,\n",
            "1994.\n",
            "\n",
            "|details-start|\n",
            "**References**\n",
            "|details-split|\n",
            "\n",
            "- C. Kaynak (1995) Methods of Combining Multiple Classifiers and Their\n",
            "  Applications to Handwritten Digit Recognition, MSc Thesis, Institute of\n",
            "  Graduate Studies in Science and Engineering, Bogazici University.\n",
            "- E. Alpaydin, C. Kaynak (1998) Cascading Classifiers, Kybernetika.\n",
            "- Ken Tang and Ponnuthurai N. Suganthan and Xi Yao and A. Kai Qin.\n",
            "  Linear dimensionalityreduction using relevance weighted LDA. School of\n",
            "  Electrical and Electronic Engineering Nanyang Technological University.\n",
            "  2005.\n",
            "- Claudio Gentile. A New Approximate Maximal Margin Classification\n",
            "  Algorithm. NIPS. 2000.\n",
            "\n",
            "|details-end|\n"
          ]
        }
      ]
    },
    {
      "cell_type": "code",
      "source": [
        "X_train, X_test, y_train, y_test = train_test_split(digit_data, digit_label, test_size = 0.2, random_state = 30)"
      ],
      "metadata": {
        "id": "CZdjfr1Haj4u"
      },
      "execution_count": null,
      "outputs": []
    },
    {
      "cell_type": "code",
      "source": [
        "from sklearn.tree import DecisionTreeClassifier\n",
        "from sklearn.ensemble import RandomForestClassifier\n",
        "from sklearn import svm\n",
        "from sklearn.linear_model import SGDClassifier\n",
        "from sklearn.linear_model import LogisticRegression\n",
        "\n",
        "decision_tree = DecisionTreeClassifier(random_state = 30)\n",
        "decision_tree.fit(X_train, y_train)\n",
        "y_pred = decision_tree.predict(X_test)\n",
        "print(classification_report(y_test, y_pred))\n",
        "\n",
        "random_forest = RandomForestClassifier(random_state = 32)\n",
        "random_forest.fit(X_train, y_train)\n",
        "y_pred = random_forest.predict(X_test)\n",
        "print(classification_report(y_test, y_pred))\n",
        "\n",
        "svm_model = svm.SVC()\n",
        "svm_model.fit(X_train, y_train)\n",
        "y_pred = svm_model.predict(X_test)\n",
        "print(classification_report(y_test, y_pred))\n",
        "\n",
        "sgd_model = SGDClassifier()\n",
        "sgd_model.fit(X_train, y_train)\n",
        "y_pred = sgd_model.predict(X_test)\n",
        "print(classification_report(y_test, y_pred))\n",
        "\n",
        "logistic_model = LogisticRegression()\n",
        "logistic_model.fit(X_train, y_train)\n",
        "y_pred = logistic_model.predict(X_test)\n",
        "print(classification_report(y_test, y_pred))\n",
        "\n"
      ],
      "metadata": {
        "colab": {
          "base_uri": "https://localhost:8080/"
        },
        "id": "YuQZ-c9gdQws",
        "outputId": "85f0895a-e622-488d-9bf7-ae1cc984cfc3"
      },
      "execution_count": null,
      "outputs": [
        {
          "output_type": "stream",
          "name": "stdout",
          "text": [
            "              precision    recall  f1-score   support\n",
            "\n",
            "           0       1.00      0.97      0.99        35\n",
            "           1       0.82      0.67      0.74        46\n",
            "           2       0.88      0.90      0.89        41\n",
            "           3       0.69      0.77      0.73        26\n",
            "           4       0.79      0.77      0.78        35\n",
            "           5       0.87      0.89      0.88        38\n",
            "           6       0.95      0.98      0.96        42\n",
            "           7       0.86      0.97      0.91        32\n",
            "           8       0.77      0.77      0.77        35\n",
            "           9       0.87      0.87      0.87        30\n",
            "\n",
            "    accuracy                           0.86       360\n",
            "   macro avg       0.85      0.86      0.85       360\n",
            "weighted avg       0.86      0.86      0.85       360\n",
            "\n",
            "              precision    recall  f1-score   support\n",
            "\n",
            "           0       1.00      1.00      1.00        35\n",
            "           1       0.98      1.00      0.99        46\n",
            "           2       1.00      1.00      1.00        41\n",
            "           3       0.92      0.88      0.90        26\n",
            "           4       1.00      0.94      0.97        35\n",
            "           5       0.97      1.00      0.99        38\n",
            "           6       1.00      1.00      1.00        42\n",
            "           7       1.00      1.00      1.00        32\n",
            "           8       0.94      0.97      0.96        35\n",
            "           9       0.90      0.90      0.90        30\n",
            "\n",
            "    accuracy                           0.97       360\n",
            "   macro avg       0.97      0.97      0.97       360\n",
            "weighted avg       0.98      0.97      0.97       360\n",
            "\n",
            "              precision    recall  f1-score   support\n",
            "\n",
            "           0       1.00      1.00      1.00        35\n",
            "           1       1.00      1.00      1.00        46\n",
            "           2       0.98      1.00      0.99        41\n",
            "           3       0.96      0.96      0.96        26\n",
            "           4       1.00      0.97      0.99        35\n",
            "           5       1.00      1.00      1.00        38\n",
            "           6       1.00      1.00      1.00        42\n",
            "           7       1.00      1.00      1.00        32\n",
            "           8       1.00      0.97      0.99        35\n",
            "           9       0.94      0.97      0.95        30\n",
            "\n",
            "    accuracy                           0.99       360\n",
            "   macro avg       0.99      0.99      0.99       360\n",
            "weighted avg       0.99      0.99      0.99       360\n",
            "\n",
            "              precision    recall  f1-score   support\n",
            "\n",
            "           0       1.00      1.00      1.00        35\n",
            "           1       0.97      0.80      0.88        46\n",
            "           2       1.00      0.98      0.99        41\n",
            "           3       0.88      0.88      0.88        26\n",
            "           4       0.90      1.00      0.95        35\n",
            "           5       0.95      0.97      0.96        38\n",
            "           6       0.98      1.00      0.99        42\n",
            "           7       1.00      1.00      1.00        32\n",
            "           8       0.84      0.91      0.88        35\n",
            "           9       0.90      0.90      0.90        30\n",
            "\n",
            "    accuracy                           0.94       360\n",
            "   macro avg       0.94      0.95      0.94       360\n",
            "weighted avg       0.95      0.94      0.94       360\n",
            "\n",
            "              precision    recall  f1-score   support\n",
            "\n",
            "           0       1.00      1.00      1.00        35\n",
            "           1       0.98      0.89      0.93        46\n",
            "           2       0.98      0.98      0.98        41\n",
            "           3       0.86      0.92      0.89        26\n",
            "           4       0.97      0.97      0.97        35\n",
            "           5       1.00      0.97      0.99        38\n",
            "           6       1.00      1.00      1.00        42\n",
            "           7       1.00      1.00      1.00        32\n",
            "           8       0.94      0.97      0.96        35\n",
            "           9       0.91      0.97      0.94        30\n",
            "\n",
            "    accuracy                           0.97       360\n",
            "   macro avg       0.96      0.97      0.96       360\n",
            "weighted avg       0.97      0.97      0.97       360\n",
            "\n"
          ]
        },
        {
          "output_type": "stream",
          "name": "stderr",
          "text": [
            "/usr/local/lib/python3.10/dist-packages/sklearn/linear_model/_logistic.py:460: ConvergenceWarning: lbfgs failed to converge (status=1):\n",
            "STOP: TOTAL NO. of ITERATIONS REACHED LIMIT.\n",
            "\n",
            "Increase the number of iterations (max_iter) or scale the data as shown in:\n",
            "    https://scikit-learn.org/stable/modules/preprocessing.html\n",
            "Please also refer to the documentation for alternative solver options:\n",
            "    https://scikit-learn.org/stable/modules/linear_model.html#logistic-regression\n",
            "  n_iter_i = _check_optimize_result(\n"
          ]
        }
      ]
    },
    {
      "cell_type": "markdown",
      "source": [
        "마음 같아서는 svm을 선택하고 싶지만, RandomForest의 결과가 제일 적절한 것 같습니다.  \n",
        "너무 결과가 좋게 나온 것과, 너무 결과가 안 좋게 나온 것의 사이이기도 하고, F1 score 값이 고루 분포되어 있는 점이 마음에 듭니다."
      ],
      "metadata": {
        "id": "D66qwlEk-BNa"
      }
    }
  ]
}